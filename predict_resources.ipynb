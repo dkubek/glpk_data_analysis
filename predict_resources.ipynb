{
 "cells": [
  {
   "cell_type": "code",
   "execution_count": 1,
   "metadata": {},
   "outputs": [],
   "source": [
    "import pandas as pd\n",
    "import statsmodels.api as sm\n",
    "import statsmodels.formula.api as smf\n",
    "import seaborn as sns\n",
    "\n",
    "from pathlib import Path\n",
    "\n",
    "sns.set_theme(style=\"ticks\")"
   ]
  },
  {
   "cell_type": "code",
   "execution_count": 13,
   "metadata": {},
   "outputs": [
    {
     "data": {
      "text/plain": [
       "<generator object Path.glob at 0x7fcb4bc10d00>"
      ]
     },
     "execution_count": 13,
     "metadata": {},
     "output_type": "execute_result"
    }
   ],
   "source": [
    "results_dir = Path(\"./results\")\n",
    "result_files = results_dir.glob(\"*.out\")\n",
    "result_files"
   ]
  },
  {
   "cell_type": "code",
   "execution_count": null,
   "metadata": {},
   "outputs": [],
   "source": [
    "def read_obj(obj_file):\n",
    "    phase1, phase2, = phase1, phase2 \n",
    "    with open(obj_file, 'r') as fin:\n",
    "        reading = phase1\n",
    "        for line in fin:\n",
    "            if line == '---\\n':\n",
    "                reading = phase2\n",
    "                continue\n",
    "\n",
    "            reading.append(int(line))\n",
    "\n",
    "    return phase1, phase2\n",
    "\n",
    "def read_var(var_file):\n",
    "    phase1, phase2, = [], []\n",
    "    with open(var_file, 'r') as fin:\n",
    "        reading = phase1\n",
    "        for line in fin:\n",
    "            if line == '---\\n':\n",
    "                reading = phase2\n",
    "                continue\n",
    "\n",
    "            reading.append(int(line))\n",
    "\n",
    "    return phase1, phase2\n",
    "\n",
    "def read_info(info_file):\n",
    "    rows, cols, nonzeros = None, None, None\n",
    "    with open(info_file, 'r') as fin:\n",
    "        # SKIP HEADER\n",
    "        fin.readline()\n",
    "\n",
    "        line = fin.readline()\n",
    "        _, rows = line.split(':')\n",
    "\n",
    "        line = fin.readline()\n",
    "        _, cols = line.split(':')\n",
    "\n",
    "\n",
    "        line = fin.readline()\n",
    "        _, nonzeros = line.split(':')\n",
    "\n",
    "\n",
    "    return int(rows), int(cols), int(nonzeros)\n",
    "        \n",
    "\n",
    "for filename in result_files:\n",
    "    *t, pivot_rule = filename.stem.split('.')\n",
    "    basename = '.'.join(t)\n",
    "\n",
    "    obj_file = results_dir / '.'.join((basename, pivot_rule, \"obj\"))\n",
    "    var_file = results_dir / '.'.join((basename, pivot_rule, \"var\"))\n",
    "    info_file = results_dir / '.'.join((basename, pivot_rule, \"info\"))\n",
    "\n",
    "    phase1, phase2 = read_obj(obj_file)\n",
    "    phase1, phase2 = read_var(var_file)\n",
    "    rows, cols, nonzeros = read_info(info_file)\n",
    "    \n"
   ]
  }
 ],
 "metadata": {
  "kernelspec": {
   "display_name": "mcfglpk-data-analysis--SBxlMui-py3.11",
   "language": "python",
   "name": "python3"
  },
  "language_info": {
   "codemirror_mode": {
    "name": "ipython",
    "version": 3
   },
   "file_extension": ".py",
   "mimetype": "text/x-python",
   "name": "python",
   "nbconvert_exporter": "python",
   "pygments_lexer": "ipython3",
   "version": "3.11.2"
  },
  "orig_nbformat": 4
 },
 "nbformat": 4,
 "nbformat_minor": 2
}
